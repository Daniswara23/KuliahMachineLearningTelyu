{
  "nbformat": 4,
  "nbformat_minor": 0,
  "metadata": {
    "colab": {
      "provenance": []
    },
    "kernelspec": {
      "name": "python3",
      "display_name": "Python 3"
    },
    "language_info": {
      "name": "python"
    }
  },
  "cells": [
    {
      "cell_type": "code",
      "execution_count": 6,
      "metadata": {
        "colab": {
          "base_uri": "https://localhost:8080/"
        },
        "id": "ge-MJT2fu5WA",
        "outputId": "fa714b2d-ec02-40f1-a36f-fe129beef538"
      },
      "outputs": [
        {
          "output_type": "stream",
          "name": "stdout",
          "text": [
            "{   'Decision Tree': {   'MSE': 20.954405339805824,\n",
            "                         'R2 Score': 0.9186795331743481},\n",
            "    'Linear Regression': {   'MSE': 75.4674986230397,\n",
            "                             'R2 Score': 0.7071235323232181},\n",
            "    'Polynomial Linear Regression': {   'MSE': 34.68604618016109,\n",
            "                                        'R2 Score': 0.8653893812797192},\n",
            "    'k-NN': {'MSE': 72.70981852427184, 'R2 Score': 0.717825617605572}}\n"
          ]
        }
      ],
      "source": [
        "import pandas as pd\n",
        "from sklearn.model_selection import train_test_split\n",
        "from sklearn.preprocessing import LabelEncoder\n",
        "from sklearn.tree import DecisionTreeRegressor\n",
        "from sklearn.neighbors import KNeighborsRegressor\n",
        "from sklearn.linear_model import LinearRegression\n",
        "from sklearn.metrics import mean_squared_error, r2_score\n",
        "from sklearn.preprocessing import PolynomialFeatures\n",
        "\n",
        "# Load the dataset\n",
        "file_path = '/content/sample_data/MaterialStrength.csv'\n",
        "data = pd.read_csv(file_path)\n",
        "\n",
        "# Data Cleaning and Preprocessing\n",
        "le = LabelEncoder()\n",
        "data['x14'] = le.fit_transform(data['x14'])\n",
        "data['x15'] = le.fit_transform(data['x15'])\n",
        "X = data.drop(columns=['target_feature'])\n",
        "y = data['target_feature']\n",
        "\n",
        "# Split data into training and testing sets\n",
        "X_train, X_test, y_train, y_test = train_test_split(X, y, test_size=0.2, random_state=42)\n",
        "\n",
        "# Decision Tree Regressor\n",
        "dt_model = DecisionTreeRegressor(random_state=42)\n",
        "dt_model.fit(X_train, y_train)\n",
        "y_pred_dt = dt_model.predict(X_test)\n",
        "mse_dt = mean_squared_error(y_test, y_pred_dt)\n",
        "r2_dt = r2_score(y_test, y_pred_dt)\n",
        "\n",
        "# k-NN Regressor\n",
        "knn_model = KNeighborsRegressor(n_neighbors=5)\n",
        "knn_model.fit(X_train, y_train)\n",
        "y_pred_knn = knn_model.predict(X_test)\n",
        "mse_knn = mean_squared_error(y_test, y_pred_knn)\n",
        "r2_knn = r2_score(y_test, y_pred_knn)\n",
        "\n",
        "# Linear Regression\n",
        "lr_model = LinearRegression()\n",
        "lr_model.fit(X_train, y_train)\n",
        "y_pred_lr = lr_model.predict(X_test)\n",
        "mse_lr = mean_squared_error(y_test, y_pred_lr)\n",
        "r2_lr = r2_score(y_test, y_pred_lr)\n",
        "\n",
        "# Polynomial Linear Regression\n",
        "poly = PolynomialFeatures(degree=2)\n",
        "X_poly_train = poly.fit_transform(X_train)\n",
        "X_poly_test = poly.transform(X_test)\n",
        "lr_poly_model = LinearRegression()\n",
        "lr_poly_model.fit(X_poly_train, y_train)\n",
        "y_pred_lr_poly = lr_poly_model.predict(X_poly_test)\n",
        "mse_lr_poly = mean_squared_error(y_test, y_pred_lr_poly)\n",
        "r2_lr_poly = r2_score(y_test, y_pred_lr_poly)\n",
        "\n",
        "# Displaying the results\n",
        "results = {\n",
        "    \"Decision Tree\": {\"MSE\": mse_dt, \"R2 Score\": r2_dt},\n",
        "    \"k-NN\": {\"MSE\": mse_knn, \"R2 Score\": r2_knn},\n",
        "    \"Linear Regression\": {\"MSE\": mse_lr, \"R2 Score\": r2_lr},\n",
        "    \"Polynomial Linear Regression\": {\"MSE\": mse_lr_poly, \"R2 Score\": r2_lr_poly}\n",
        "}\n",
        "import pprint\n",
        "pp = pprint.PrettyPrinter(indent=4)\n",
        "pp.pprint(results)\n"
      ]
    }
  ]
}