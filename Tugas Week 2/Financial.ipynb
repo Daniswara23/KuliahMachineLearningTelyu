{
  "nbformat": 4,
  "nbformat_minor": 0,
  "metadata": {
    "colab": {
      "provenance": []
    },
    "kernelspec": {
      "name": "python3",
      "display_name": "Python 3"
    },
    "language_info": {
      "name": "python"
    }
  },
  "cells": [
    {
      "cell_type": "code",
      "source": [
        "# Import necessary libraries\n",
        "import pandas as pd\n",
        "from sklearn.model_selection import train_test_split\n",
        "from sklearn.linear_model import LinearRegression\n",
        "from sklearn.preprocessing import PolynomialFeatures\n",
        "from sklearn.metrics import mean_squared_error, r2_score\n",
        "import numpy as np\n",
        "\n",
        "# Load the dataset\n",
        "file_path_financial = '/content/sample_data/FinancialMarket.csv'\n",
        "financial_data = pd.read_csv(file_path_financial)\n",
        "\n",
        "# Split the data into features (X) and target (y)\n",
        "X = financial_data[['x']]\n",
        "y = financial_data['combined_data']\n",
        "\n",
        "# Split data for training and testing (80% training, 20% testing)\n",
        "X_train, X_test, y_train, y_test = train_test_split(X, y, test_size=0.2, random_state=42)\n",
        "\n",
        "# Standard Linear Regression\n",
        "linear_model = LinearRegression()\n",
        "linear_model.fit(X_train, y_train)\n",
        "\n",
        "# Predictions using the standard linear model\n",
        "y_pred_linear = linear_model.predict(X_test)\n",
        "\n",
        "# Polynomial Regression (basis functions)\n",
        "poly = PolynomialFeatures(degree=3)  # Using 3rd-degree polynomial basis functions\n",
        "X_train_poly = poly.fit_transform(X_train)\n",
        "X_test_poly = poly.transform(X_test)\n",
        "\n",
        "# Linear regression with polynomial features\n",
        "poly_model = LinearRegression()\n",
        "poly_model.fit(X_train_poly, y_train)\n",
        "\n",
        "# Predictions using the polynomial model\n",
        "y_pred_poly = poly_model.predict(X_test_poly)\n",
        "\n",
        "# Calculate evaluation metrics for both models\n",
        "mse_linear = mean_squared_error(y_test, y_pred_linear)\n",
        "rmse_linear = np.sqrt(mse_linear)\n",
        "r2_linear = r2_score(y_test, y_pred_linear)\n",
        "\n",
        "mse_poly = mean_squared_error(y_test, y_pred_poly)\n",
        "rmse_poly = np.sqrt(mse_poly)\n",
        "r2_poly = r2_score(y_test, y_pred_poly)\n",
        "\n",
        "# Compare the two models\n",
        "comparison_metrics = {\n",
        "    \"Standard Linear Regression\": {\n",
        "        \"MSE\": mse_linear,\n",
        "        \"RMSE\": rmse_linear,\n",
        "        \"R-Squared\": r2_linear\n",
        "    },\n",
        "    \"Polynomial Regression (Basis Functions)\": {\n",
        "        \"MSE\": mse_poly,\n",
        "        \"RMSE\": rmse_poly,\n",
        "        \"R-Squared\": r2_poly\n",
        "    }\n",
        "}\n",
        "\n",
        "# Print the results\n",
        "print(\"Standard Linear Regression:\")\n",
        "print(f\"MSE: {mse_linear}\")\n",
        "print(f\"RMSE: {rmse_linear}\")\n",
        "print(f\"R-Squared: {r2_linear}\")\n",
        "\n",
        "print(\"\\nPolynomial Regression (Basis Functions):\")\n",
        "print(f\"MSE: {mse_poly}\")\n",
        "print(f\"RMSE: {rmse_poly}\")\n",
        "print(f\"R-Squared: {r2_poly}\")\n"
      ],
      "metadata": {
        "colab": {
          "base_uri": "https://localhost:8080/"
        },
        "id": "fvAiyIY8tp4-",
        "outputId": "9ac9d5a2-6880-424a-ebb3-495321291475"
      },
      "execution_count": 3,
      "outputs": [
        {
          "output_type": "stream",
          "name": "stdout",
          "text": [
            "Standard Linear Regression:\n",
            "MSE: 9.401377787555104\n",
            "RMSE: 3.0661666274935393\n",
            "R-Squared: 0.6781603066194921\n",
            "\n",
            "Polynomial Regression (Basis Functions):\n",
            "MSE: 1.3483894818456008\n",
            "RMSE: 1.1612017403731363\n",
            "R-Squared: 0.9538402490357165\n"
          ]
        }
      ]
    }
  ]
}