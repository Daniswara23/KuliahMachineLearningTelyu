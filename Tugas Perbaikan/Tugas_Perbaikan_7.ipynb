{
  "nbformat": 4,
  "nbformat_minor": 0,
  "metadata": {
    "colab": {
      "provenance": []
    },
    "kernelspec": {
      "name": "python3",
      "display_name": "Python 3"
    },
    "language_info": {
      "name": "python"
    }
  },
  "cells": [
    {
      "cell_type": "code",
      "source": [
        "# Import library\n",
        "import numpy as np\n",
        "import pandas as pd\n",
        "from sklearn.feature_extraction.text import CountVectorizer, TfidfVectorizer\n",
        "from sklearn.model_selection import train_test_split\n",
        "from sklearn.naive_bayes import MultinomialNB\n",
        "from sklearn.pipeline import make_pipeline\n",
        "from sklearn.metrics import classification_report\n",
        "from sklearn.decomposition import LatentDirichletAllocation\n",
        "\n",
        "\n",
        "# Dataset: Load movie reviews\n",
        "from sklearn.datasets import fetch_20newsgroups\n",
        "categories = ['rec.sport.baseball', 'sci.med']  # Example categories\n",
        "data = fetch_20newsgroups(subset='all', categories=categories, remove=('headers', 'footers', 'quotes'))\n",
        "\n",
        "# Display sample data\n",
        "print(\"Sample Text:\")\n",
        "print(data.data[0])\n",
        "print(\"\\nTarget Classes:\", data.target_names)\n",
        "\n"
      ],
      "metadata": {
        "colab": {
          "base_uri": "https://localhost:8080/"
        },
        "id": "hAh5BdJ5yibI",
        "outputId": "f141b4e0-e101-42cc-c7b3-f2b2dbada55b"
      },
      "execution_count": 16,
      "outputs": [
        {
          "output_type": "stream",
          "name": "stdout",
          "text": [
            "Sample Text:\n",
            "My family doctor and the physiotherapist (PT) she sent me to agree that the\n",
            "pain in my left shoulder is bursitis. I have an appointment with an orthpod\n",
            "(I love that, it's short for 'orthopedic surgeon, apparently) but while I'm\n",
            "waiting the PT is treating me.\n",
            "\n",
            "She's using hot packs, ultrasound, and lasers, but there's no improvement\n",
            "yet. In fact, I almost suspect it's getting worse.\n",
            "\n",
            "My real question is about the laser treatment. I can't easily imagine what\n",
            "the physical effect that could have on a deep tissue problem. Can anyone\n",
            "shed some light (so to speak) on the matter?\n",
            "\n",
            "Target Classes: ['rec.sport.baseball', 'sci.med']\n"
          ]
        }
      ]
    },
    {
      "cell_type": "code",
      "source": [
        "\n",
        "\n",
        "# Split dataset\n",
        "X_train, X_test, y_train, y_test = train_test_split(data.data, data.target, test_size=0.3, random_state=42)\n",
        "\n",
        "\n",
        "# Sub-bab 3: Representing Text Data as Bag-of-Words\n",
        "vectorizer_bow = CountVectorizer()\n",
        "X_train_bow = vectorizer_bow.fit_transform(X_train)\n",
        "X_test_bow = vectorizer_bow.transform(X_test)\n",
        "\n",
        "print(\"\\nBag-of-Words Representation (Shape):\", X_train_bow.shape)\n",
        "\n",
        "\n",
        "# Sub-bab 6: Stopwords\n",
        "vectorizer_bow_stopwords = CountVectorizer(stop_words='english')\n",
        "X_train_bow_stop = vectorizer_bow_stopwords.fit_transform(X_train)\n",
        "print(\"\\nBag-of-Words without Stopwords (Shape):\", X_train_bow_stop.shape)\n",
        "\n",
        "\n",
        "# Sub-bab 7: Rescaling the Data with tf-idf\n",
        "tfidf_vectorizer = TfidfVectorizer()\n",
        "X_train_tfidf = tfidf_vectorizer.fit_transform(X_train)\n",
        "X_test_tfidf = tfidf_vectorizer.transform(X_test)\n",
        "\n",
        "print(\"\\nTF-IDF Representation (Shape):\", X_train_tfidf.shape)\n",
        "\n",
        "\n",
        "# Sub-bab 8: Investigating Model Coefficients\n",
        "model = MultinomialNB()\n",
        "model.fit(X_train_tfidf, y_train)\n",
        "\n",
        "# Display top features per class\n",
        "def display_top_features(vectorizer, model, class_labels, n=10):\n",
        "    feature_names = np.array(vectorizer.get_feature_names_out())\n",
        "    for i, class_label in enumerate(class_labels):\n",
        "        top_features = np.argsort(model.feature_log_prob_[i])[-n:]\n",
        "        print(f\"\\nTop features for class '{class_label}':\")\n",
        "        print(feature_names[top_features])\n",
        "\n",
        "display_top_features(tfidf_vectorizer, model, data.target_names)\n",
        "\n"
      ],
      "metadata": {
        "colab": {
          "base_uri": "https://localhost:8080/"
        },
        "id": "NuMhZQRxyjvF",
        "outputId": "696a905d-6c65-4709-898e-ff1c2c49cdc0"
      },
      "execution_count": 17,
      "outputs": [
        {
          "output_type": "stream",
          "name": "stdout",
          "text": [
            "\n",
            "Bag-of-Words Representation (Shape): (1388, 19243)\n",
            "\n",
            "Bag-of-Words without Stopwords (Shape): (1388, 18946)\n",
            "\n",
            "TF-IDF Representation (Shape): (1388, 19243)\n",
            "\n",
            "Top features for class 'rec.sport.baseball':\n",
            "['it' 'you' 'is' 'that' 'and' 'of' 'in' 'he' 'to' 'the']\n",
            "\n",
            "Top features for class 'sci.med':\n",
            "['for' 'you' 'that' 'in' 'it' 'and' 'is' 'of' 'to' 'the']\n"
          ]
        }
      ]
    },
    {
      "cell_type": "code",
      "source": [
        "\n",
        "\n",
        "# Sub-bab 9: Bag-of-Words with More Than One Word (n-Grams)\n",
        "ngram_vectorizer = CountVectorizer(ngram_range=(1, 2))\n",
        "X_train_ngram = ngram_vectorizer.fit_transform(X_train)\n",
        "print(\"\\nBag-of-Words with n-Grams (Shape):\", X_train_ngram.shape)\n",
        "\n",
        "\n",
        "# Sub-bab 11: Topic Modeling and Document Clustering (LDA)\n",
        "lda = LatentDirichletAllocation(n_components=2, random_state=42)\n",
        "lda.fit(X_train_bow)\n",
        "\n",
        "print(\"\\nTop words per topic:\")\n",
        "for idx, topic in enumerate(lda.components_):\n",
        "    top_words = [vectorizer_bow.get_feature_names_out()[i] for i in topic.argsort()[-10:]]\n",
        "    print(f\"Topic {idx}: {' '.join(top_words)}\")\n",
        "\n",
        "# Sub-bab 12: Evaluating the Model\n",
        "y_pred = model.predict(X_test_tfidf)\n",
        "print(\"\\nClassification Report:\")\n",
        "print(classification_report(y_test, y_pred, target_names=data.target_names))\n",
        "\n",
        "\n",
        "# Sub-bab 13: Summary and Outlook\n",
        "print(\"\\nSummary:\")\n",
        "print(\"1. Bag-of-Words and TF-IDF are fundamental for text data representation.\")\n",
        "print(\"2. Stopwords and n-Grams enhance feature extraction.\")\n",
        "print(\"3. LDA helps in unsupervised topic discovery.\")\n",
        "\n"
      ],
      "metadata": {
        "colab": {
          "base_uri": "https://localhost:8080/"
        },
        "id": "1c3walD6yuWV",
        "outputId": "bdd2ceff-6a1e-4c29-8599-2ca10157b153"
      },
      "execution_count": 18,
      "outputs": [
        {
          "output_type": "stream",
          "name": "stdout",
          "text": [
            "\n",
            "Bag-of-Words with n-Grams (Shape): (1388, 140994)\n",
            "\n",
            "Top words per topic:\n",
            "Topic 0: you for it that is in and of to the\n",
            "Topic 1: cancer 92 10 edu to for in and the of\n",
            "\n",
            "Classification Report:\n",
            "                    precision    recall  f1-score   support\n",
            "\n",
            "rec.sport.baseball       0.97      0.97      0.97       294\n",
            "           sci.med       0.97      0.97      0.97       302\n",
            "\n",
            "          accuracy                           0.97       596\n",
            "         macro avg       0.97      0.97      0.97       596\n",
            "      weighted avg       0.97      0.97      0.97       596\n",
            "\n",
            "\n",
            "Summary:\n",
            "1. Bag-of-Words and TF-IDF are fundamental for text data representation.\n",
            "2. Stopwords and n-Grams enhance feature extraction.\n",
            "3. LDA helps in unsupervised topic discovery.\n"
          ]
        }
      ]
    }
  ]
}