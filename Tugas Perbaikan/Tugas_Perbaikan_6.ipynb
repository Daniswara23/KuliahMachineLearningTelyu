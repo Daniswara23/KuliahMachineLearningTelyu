{
  "nbformat": 4,
  "nbformat_minor": 0,
  "metadata": {
    "colab": {
      "provenance": []
    },
    "kernelspec": {
      "name": "python3",
      "display_name": "Python 3"
    },
    "language_info": {
      "name": "python"
    }
  },
  "cells": [
    {
      "cell_type": "code",
      "source": [
        "# Import libraries\n",
        "import numpy as np\n",
        "import pandas as pd\n",
        "from sklearn.datasets import load_iris\n",
        "from sklearn.model_selection import train_test_split, GridSearchCV\n",
        "from sklearn.pipeline import Pipeline, make_pipeline\n",
        "from sklearn.preprocessing import StandardScaler, MinMaxScaler, OneHotEncoder\n",
        "from sklearn.impute import SimpleImputer\n",
        "from sklearn.compose import ColumnTransformer\n",
        "from sklearn.svm import SVC\n",
        "from sklearn.ensemble import RandomForestClassifier\n",
        "from sklearn.metrics import classification_report\n",
        "\n",
        "\n",
        "# Load dataset (Iris dataset as an example)\n",
        "data = load_iris()\n",
        "X, y = data.data, data.target\n",
        "X_train, X_test, y_train, y_test = train_test_split(X, y, random_state=42, test_size=0.3)\n",
        "\n",
        "\n",
        "\n",
        "# 1. Parameter Selection with Preprocessing\n",
        "# Example of combining preprocessing (scaling) and model selection\n",
        "pipeline_1 = Pipeline([\n",
        "    ('scaler', StandardScaler()),\n",
        "    ('svc', SVC())\n",
        "])\n",
        "\n",
        "# Train the pipeline\n",
        "pipeline_1.fit(X_train, y_train)\n",
        "\n",
        "# Test the pipeline\n",
        "print(\"Pipeline 1 Accuracy:\", pipeline_1.score(X_test, y_test))\n",
        "\n"
      ],
      "metadata": {
        "colab": {
          "base_uri": "https://localhost:8080/"
        },
        "id": "aW4cFFs1x0Fy",
        "outputId": "19584fac-aa69-4ecf-c100-73b1f7f1839a"
      },
      "execution_count": 12,
      "outputs": [
        {
          "output_type": "stream",
          "name": "stdout",
          "text": [
            "Pipeline 1 Accuracy: 1.0\n"
          ]
        }
      ]
    },
    {
      "cell_type": "code",
      "source": [
        "\n",
        "\n",
        "# 2. Building Pipelines\n",
        "# A more complex pipeline with multiple steps\n",
        "preprocessor = ColumnTransformer(\n",
        "    transformers=[\n",
        "        ('num', StandardScaler(), [0, 1, 2, 3]),  # Apply scaling to all features\n",
        "    ]\n",
        ")\n",
        "\n",
        "pipeline_2 = Pipeline([\n",
        "    ('preprocessor', preprocessor),\n",
        "    ('svc', SVC())\n",
        "])\n",
        "\n",
        "# Train the pipeline\n",
        "pipeline_2.fit(X_train, y_train)\n",
        "\n",
        "# Test the pipeline\n",
        "print(\"Pipeline 2 Accuracy:\", pipeline_2.score(X_test, y_test))\n",
        "\n",
        "\n",
        "\n",
        "# 3. Using Pipelines in Grid Searches\n",
        "param_grid = {\n",
        "    'svc__C': [0.1, 1, 10],\n",
        "    'svc__kernel': ['linear', 'rbf']\n",
        "}\n",
        "\n",
        "grid = GridSearchCV(pipeline_2, param_grid, cv=5)\n",
        "grid.fit(X_train, y_train)\n",
        "\n",
        "print(\"\\nBest Parameters from Grid Search:\", grid.best_params_)\n",
        "print(\"Grid Search Accuracy:\", grid.score(X_test, y_test))\n",
        "\n",
        "\n",
        "\n",
        "# 4. The General Pipeline Interface\n",
        "# Using the `fit`, `transform`, and `predict` methods of a pipeline\n",
        "pipeline_2.fit(X_train, y_train)\n",
        "predictions = pipeline_2.predict(X_test)\n",
        "print(\"\\nClassification Report (Pipeline 2):\\n\", classification_report(y_test, predictions))\n",
        "\n",
        "\n"
      ],
      "metadata": {
        "colab": {
          "base_uri": "https://localhost:8080/"
        },
        "id": "j0H2h17ox1gR",
        "outputId": "f9b86f78-8659-4ed9-dbcd-9109e4efd545"
      },
      "execution_count": 13,
      "outputs": [
        {
          "output_type": "stream",
          "name": "stdout",
          "text": [
            "Pipeline 2 Accuracy: 1.0\n",
            "\n",
            "Best Parameters from Grid Search: {'svc__C': 10, 'svc__kernel': 'linear'}\n",
            "Grid Search Accuracy: 0.9777777777777777\n",
            "\n",
            "Classification Report (Pipeline 2):\n",
            "               precision    recall  f1-score   support\n",
            "\n",
            "           0       1.00      1.00      1.00        19\n",
            "           1       1.00      1.00      1.00        13\n",
            "           2       1.00      1.00      1.00        13\n",
            "\n",
            "    accuracy                           1.00        45\n",
            "   macro avg       1.00      1.00      1.00        45\n",
            "weighted avg       1.00      1.00      1.00        45\n",
            "\n"
          ]
        }
      ]
    },
    {
      "cell_type": "code",
      "source": [
        "\n",
        "\n",
        "# 5. Convenient Pipeline Creation with make_pipeline\n",
        "# Creating a pipeline using make_pipeline\n",
        "pipeline_3 = make_pipeline(StandardScaler(), SVC())\n",
        "pipeline_3.fit(X_train, y_train)\n",
        "print(\"Pipeline 3 Accuracy (make_pipeline):\", pipeline_3.score(X_test, y_test))\n",
        "\n",
        "\n",
        "# 6. Accessing Step Attributes\n",
        "# Accessing the scaler step in pipeline_1\n",
        "scaler = pipeline_1.named_steps['scaler']\n",
        "print(\"\\nScaler Mean (Pipeline 1):\", scaler.mean_)\n",
        "\n",
        "\n",
        "# 7. Accessing Attributes in a Grid-Searched Pipeline\n",
        "# Accessing the best model and its parameters\n",
        "best_model = grid.best_estimator_.named_steps['svc']\n",
        "print(\"Best SVC Parameters from Grid Search:\", best_model.get_params())\n",
        "\n",
        "\n",
        "# 8. Grid-Searching Preprocessing Steps and Model Parameters\n",
        "# Adding preprocessing steps to grid search\n",
        "param_grid_2 = {\n",
        "    'preprocessor__num__with_mean': [True, False],\n",
        "    'svc__C': [0.1, 1, 10],\n",
        "    'svc__kernel': ['linear', 'rbf']\n",
        "}\n",
        "\n",
        "grid_2 = GridSearchCV(pipeline_2, param_grid_2, cv=5)\n",
        "grid_2.fit(X_train, y_train)\n",
        "\n",
        "print(\"\\nBest Parameters from Grid Search with Preprocessing:\", grid_2.best_params_)\n",
        "print(\"Grid Search Accuracy (with Preprocessing):\", grid_2.score(X_test, y_test))\n",
        "\n"
      ],
      "metadata": {
        "colab": {
          "base_uri": "https://localhost:8080/"
        },
        "id": "NadLdXShx8Ge",
        "outputId": "44cd4882-b817-410d-ebba-d9c02d333335"
      },
      "execution_count": 14,
      "outputs": [
        {
          "output_type": "stream",
          "name": "stdout",
          "text": [
            "Pipeline 3 Accuracy (make_pipeline): 1.0\n",
            "\n",
            "Scaler Mean (Pipeline 1): [5.84285714 3.00952381 3.87047619 1.23904762]\n",
            "Best SVC Parameters from Grid Search: {'C': 10, 'break_ties': False, 'cache_size': 200, 'class_weight': None, 'coef0': 0.0, 'decision_function_shape': 'ovr', 'degree': 3, 'gamma': 'scale', 'kernel': 'linear', 'max_iter': -1, 'probability': False, 'random_state': None, 'shrinking': True, 'tol': 0.001, 'verbose': False}\n",
            "\n",
            "Best Parameters from Grid Search with Preprocessing: {'preprocessor__num__with_mean': True, 'svc__C': 10, 'svc__kernel': 'linear'}\n",
            "Grid Search Accuracy (with Preprocessing): 0.9777777777777777\n"
          ]
        }
      ]
    },
    {
      "cell_type": "code",
      "source": [
        "# Grid-Searching Which Model To Use (Revised)\n",
        "from sklearn.model_selection import GridSearchCV\n",
        "from sklearn.pipeline import Pipeline\n",
        "from sklearn.preprocessing import StandardScaler\n",
        "from sklearn.svm import SVC\n",
        "from sklearn.ensemble import RandomForestClassifier\n",
        "\n",
        "# Define individual pipelines for each model\n",
        "pipeline_svc = Pipeline([\n",
        "    ('scaler', StandardScaler()),\n",
        "    ('classifier', SVC())\n",
        "])\n",
        "\n",
        "pipeline_rf = Pipeline([\n",
        "    ('scaler', StandardScaler()),\n",
        "    ('classifier', RandomForestClassifier())\n",
        "])\n",
        "\n",
        "# Define parameter grids for each pipeline\n",
        "param_grid_svc = {\n",
        "    'classifier__C': [0.1, 1, 10],\n",
        "    'classifier__kernel': ['linear', 'rbf']\n",
        "}\n",
        "\n",
        "param_grid_rf = {\n",
        "    'classifier__n_estimators': [50, 100],\n",
        "    'classifier__max_depth': [None, 10, 20]\n",
        "}\n",
        "\n",
        "# Perform grid search for SVC\n",
        "grid_svc = GridSearchCV(pipeline_svc, param_grid_svc, cv=5)\n",
        "grid_svc.fit(X_train, y_train)\n",
        "\n",
        "# Perform grid search for RandomForest\n",
        "grid_rf = GridSearchCV(pipeline_rf, param_grid_rf, cv=5)\n",
        "grid_rf.fit(X_train, y_train)\n",
        "\n",
        "# Compare results\n",
        "print(\"Best parameters for SVC:\", grid_svc.best_params_)\n",
        "print(\"Best SVC accuracy:\", grid_svc.score(X_test, y_test))\n",
        "\n",
        "print(\"\\nBest parameters for RandomForest:\", grid_rf.best_params_)\n",
        "print(\"Best RandomForest accuracy:\", grid_rf.score(X_test, y_test))\n",
        "\n",
        "# Choose the best model based on accuracy\n",
        "if grid_svc.best_score_ > grid_rf.best_score_:\n",
        "    print(\"\\nBest Model: SVC\")\n",
        "    best_model = grid_svc.best_estimator_\n",
        "else:\n",
        "    print(\"\\nBest Model: RandomForest\")\n",
        "    best_model = grid_rf.best_estimator_\n",
        "\n",
        "# Test the best model on the test set\n",
        "print(\"\\nTest accuracy of the best model:\", best_model.score(X_test, y_test))"
      ],
      "metadata": {
        "colab": {
          "base_uri": "https://localhost:8080/"
        },
        "id": "tfHcKr9cyMJy",
        "outputId": "1ea944ec-8202-4a32-f70e-16152dfd1ae4"
      },
      "execution_count": 15,
      "outputs": [
        {
          "output_type": "stream",
          "name": "stdout",
          "text": [
            "Best parameters for SVC: {'classifier__C': 10, 'classifier__kernel': 'linear'}\n",
            "Best SVC accuracy: 0.9777777777777777\n",
            "\n",
            "Best parameters for RandomForest: {'classifier__max_depth': None, 'classifier__n_estimators': 50}\n",
            "Best RandomForest accuracy: 1.0\n",
            "\n",
            "Best Model: SVC\n",
            "\n",
            "Test accuracy of the best model: 0.9777777777777777\n"
          ]
        }
      ]
    }
  ]
}